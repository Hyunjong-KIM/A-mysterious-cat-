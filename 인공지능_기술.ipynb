{
  "nbformat": 4,
  "nbformat_minor": 0,
  "metadata": {
    "colab": {
      "name": "인공지능 기술.ipynb",
      "provenance": [],
      "collapsed_sections": [],
      "authorship_tag": "ABX9TyMkdC3ESLuaouI3kev5morK"
    },
    "kernelspec": {
      "name": "python3",
      "display_name": "Python 3"
    }
  },
  "cells": [
    {
      "cell_type": "markdown",
      "metadata": {
        "id": "VXsVhMXsNCim",
        "colab_type": "text"
      },
      "source": [
        "# ** 인공지능 사관학교 과제 1주차**\n",
        "\n",
        "---\n",
        "* **언어**\n",
        "\n",
        "![대체 텍스트](http://blogfiles.naver.net/MjAxOTA3MDJfMTE2/MDAxNTYyMDczMDYzNDY2.mxIOrD12MJnnz3F4zeuNED9MI93ITwNZNApRA3KOZ2Ag.gZEp10y96onvBxbd7Dqz1YgAB9gytfAAs_G5EpNL0psg.PNG.poalqr04/20190702_221057.png)\n",
        "\n",
        "\n",
        "\n",
        "\n",
        "\n",
        "* **음성**\n",
        "\n",
        "* **이미지**\n",
        "\n",
        "* **자율주행**\n",
        "\n",
        "\n",
        "\n"
      ]
    }
  ]
}