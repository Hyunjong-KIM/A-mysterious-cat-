{
  "nbformat": 4,
  "nbformat_minor": 0,
  "metadata": {
    "colab": {
      "name": "인공지능 기술.ipynb",
      "provenance": [],
      "collapsed_sections": [],
      "authorship_tag": "ABX9TyOSGOSTJow7ddMfZcmZP6xB"
    },
    "kernelspec": {
      "name": "python3",
      "display_name": "Python 3"
    }
  },
  "cells": [
    {
      "cell_type": "markdown",
      "metadata": {
        "id": "VXsVhMXsNCim",
        "colab_type": "text"
      },
      "source": [
        "# **광주 인공지능 사관학교 과제 1주차**\n",
        "\n",
        "---\n",
        "\n",
        "\n",
        "\n",
        "* **언어**\n",
        "\n",
        "* **음성**\n",
        "\n",
        "* **이미지**\n",
        "\n",
        "* **자율주행**\n",
        "\n",
        "\n",
        "\n"
      ]
    }
  ]
}