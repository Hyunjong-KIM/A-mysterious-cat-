{
  "nbformat": 4,
  "nbformat_minor": 0,
  "metadata": {
    "colab": {
      "name": "Untitled0.ipynb",
      "provenance": [],
      "collapsed_sections": [],
      "authorship_tag": "ABX9TyOOuPMG/HY/Key5+jG9uQSM",
      "include_colab_link": true
    },
    "kernelspec": {
      "name": "python3",
      "display_name": "Python 3"
    }
  },
  "cells": [
    {
      "cell_type": "markdown",
      "metadata": {
        "id": "view-in-github",
        "colab_type": "text"
      },
      "source": [
        "<a href=\"https://colab.research.google.com/github/Hyunjong-KIM/A-mysterious-cat-/blob/master/Untitled0.ipynb\" target=\"_parent\"><img src=\"https://colab.research.google.com/assets/colab-badge.svg\" alt=\"Open In Colab\"/></a>"
      ]
    },
    {
      "cell_type": "markdown",
      "metadata": {
        "id": "VXsVhMXsNCim",
        "colab_type": "text"
      },
      "source": [
        "# **광주 인공지능 사관학교 과제 1주차**\n",
        "\n",
        "---\n",
        "\n",
        "\n",
        "\n",
        "* **언어**\n",
        "\n",
        "   인공지능 언어기술로 파파고번역기는 일반적으로 앱으로 다운받아 사용하기도하지만 WIFI Egg에 탑재하여 사용하며\n",
        "   총 13개 국어 번역을 제공하고 있습니다.\n",
        "   \n",
        "   주요기능으로는 텍스트 번역, 이미지 번역, 음성 번역, 대화 번역 등  상황에 맞는 번역 서비스를 제공하고 있습니다.\n",
        "  \n",
        "\n",
        "---\n",
        "\n",
        "\n",
        "* **음성**\n",
        "   \n",
        "   인공지능 언어기술로 인공지능스피커가 있습니다.\n",
        "\n",
        "   인공지능스피커는 강의에 언급되었던 EBS다큐프라임-4차인간에서 방영되기도 하였습니다.\n",
        "\n",
        "   주요기능으로는 음성으로 인식하고 상황에 맞는 답변을 할 수 있습니다.\n",
        "   \n",
        "   이 과정에서 제품이라는 인식을 넘어설 수 있다는 점에서 가장 흥미가 생기는 분야입니다.\n",
        "\n",
        "      \n",
        "\n",
        "---\n",
        "\n",
        "\n",
        "\n",
        "* **이미지**\n",
        "\n",
        "   인공지능 이미지기술로는 스마트렌즈가 있습니다.\n",
        "\n",
        "   이미지를 촬영하거나 저장되어있는 이미지를 불러와서 관련정보나 쇼핑정보를 검색하는 서비스입니다.\n",
        "\n",
        "\n",
        "\n",
        "---\n",
        "\n",
        "\n",
        "\n",
        "\n",
        "* **자율주행**\n",
        "\n",
        "\n",
        "\n"
      ]
    }
  ]
}